{
 "cells": [
  {
   "cell_type": "markdown",
   "id": "bc25c926",
   "metadata": {},
   "source": [
    "# Titulo 1\n",
    "## Titulo 2\n",
    "### Titulo 3"
   ]
  },
  {
   "cell_type": "markdown",
   "id": "6ccfe29b",
   "metadata": {},
   "source": [
    "Esta clase vimos instalación de python"
   ]
  },
  {
   "cell_type": "markdown",
   "id": "ae160e27",
   "metadata": {},
   "source": [
    "Se instalo:\n",
    "- vsc\n",
    "- python\n",
    "- jupyter"
   ]
  },
  {
   "cell_type": "markdown",
   "id": "64444e71",
   "metadata": {},
   "source": [
    "este texto es **importante**"
   ]
  },
  {
   "cell_type": "markdown",
   "id": "0e8b277e",
   "metadata": {},
   "source": [
    "*cursiva*"
   ]
  },
  {
   "cell_type": "code",
   "execution_count": 2,
   "id": "b384949d",
   "metadata": {},
   "outputs": [
    {
     "name": "stdout",
     "output_type": "stream",
     "text": [
      "Hola mundo\n"
     ]
    }
   ],
   "source": [
    "print(\"Hola mundo\")"
   ]
  },
  {
   "cell_type": "code",
   "execution_count": null,
   "id": "5827344f",
   "metadata": {},
   "outputs": [],
   "source": []
  }
 ],
 "metadata": {
  "kernelspec": {
   "display_name": "Python 3 (ipykernel)",
   "language": "python",
   "name": "python3"
  },
  "language_info": {
   "codemirror_mode": {
    "name": "ipython",
    "version": 3
   },
   "file_extension": ".py",
   "mimetype": "text/x-python",
   "name": "python",
   "nbconvert_exporter": "python",
   "pygments_lexer": "ipython3",
   "version": "3.10.5"
  }
 },
 "nbformat": 4,
 "nbformat_minor": 5
}
