{
 "cells": [
  {
   "cell_type": "code",
   "execution_count": 9,
   "metadata": {},
   "outputs": [
    {
     "name": "stdout",
     "output_type": "stream",
     "text": [
      "Introduce un numero: 0\n",
      "ZeroDivisionError\n"
     ]
    }
   ],
   "source": [
    "try:\n",
    "    n=float(input(\"Introduce un numero: \"))\n",
    "    5/n\n",
    "except TypeError:\n",
    "    print(\"no se puede dividir el numero por una cadena\")\n",
    "except ValueError:\n",
    "    print(\"Se debe introducir un numero\")\n",
    "except Exception as e:\n",
    "    print(type(e).__name__)"
   ]
  },
  {
   "cell_type": "code",
   "execution_count": 10,
   "metadata": {},
   "outputs": [
    {
     "name": "stdout",
     "output_type": "stream",
     "text": [
      "Introduce un numero: 0\n",
      "No se puede dividir por cero\n"
     ]
    }
   ],
   "source": [
    "try:\n",
    "    n=float(input(\"Introduce un numero: \"))\n",
    "    5/n\n",
    "except TypeError:\n",
    "    print(\"no se puede dividir el numero por una cadena\")\n",
    "except ValueError:\n",
    "    print(\"Se debe introducir un numero\")\n",
    "except ZeroDivisionError:\n",
    "    print(\"No se puede dividir por cero\")\n",
    "except Exception as e:\n",
    "    print(type(e).__name__)"
   ]
  },
  {
   "cell_type": "code",
   "execution_count": null,
   "metadata": {},
   "outputs": [],
   "source": []
  }
 ],
 "metadata": {
  "kernelspec": {
   "display_name": "Python 3 (ipykernel)",
   "language": "python",
   "name": "python3"
  },
  "language_info": {
   "codemirror_mode": {
    "name": "ipython",
    "version": 3
   },
   "file_extension": ".py",
   "mimetype": "text/x-python",
   "name": "python",
   "nbconvert_exporter": "python",
   "pygments_lexer": "ipython3",
   "version": "3.10.2"
  }
 },
 "nbformat": 4,
 "nbformat_minor": 1
}
