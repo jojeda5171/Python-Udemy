{
 "cells": [
  {
   "cell_type": "code",
   "execution_count": 3,
   "metadata": {},
   "outputs": [
    {
     "name": "stdout",
     "output_type": "stream",
     "text": [
      "5\n",
      "Hola\n",
      "[1, 2, 3, 4, 5]\n"
     ]
    }
   ],
   "source": [
    "def indeterminados_posicion(*args):\n",
    "    for arg in args:\n",
    "        print(arg)\n",
    "indeterminados_posicion(5,\"Hola\",[1,2,3,4,5])"
   ]
  },
  {
   "cell_type": "code",
   "execution_count": 4,
   "metadata": {},
   "outputs": [
    {
     "name": "stdout",
     "output_type": "stream",
     "text": [
      "{'n': 5, 'c': 'Hola', 'l': [1, 2, 3, 4, 5]}\n"
     ]
    }
   ],
   "source": [
    "def indeterminados_nombre(**kwargs):\n",
    "    print(kwargs)\n",
    "indeterminados_nombre(n=5,c=\"Hola\",l=[1,2,3,4,5])"
   ]
  },
  {
   "cell_type": "code",
   "execution_count": 7,
   "metadata": {},
   "outputs": [
    {
     "name": "stdout",
     "output_type": "stream",
     "text": [
      "n   5\n",
      "c   Hola\n",
      "l   [1, 2, 3, 4, 5]\n"
     ]
    }
   ],
   "source": [
    "def indeterminados_nombre(**kwargs):\n",
    "    for kwarg in kwargs:\n",
    "        print(kwarg, \" \", kwargs[kwarg])\n",
    "indeterminados_nombre(n=5,c=\"Hola\",l=[1,2,3,4,5])"
   ]
  },
  {
   "cell_type": "code",
   "execution_count": 9,
   "metadata": {},
   "outputs": [
    {
     "name": "stdout",
     "output_type": "stream",
     "text": [
      "Suma total es: 60.56\n",
      "nombre   Hector\n",
      "edad   27\n"
     ]
    }
   ],
   "source": [
    "def super_funcion(*args, **kwargs):\n",
    "    t=0\n",
    "    for arg in args:\n",
    "        t+=arg\n",
    "    print(\"Suma total es:\",t)\n",
    "    for kwarg in kwargs:\n",
    "        print(kwarg,\" \",kwargs[kwarg])\n",
    "super_funcion(10,50,-1,1.56,nombre=\"Hector\",edad=27)"
   ]
  },
  {
   "cell_type": "code",
   "execution_count": null,
   "metadata": {},
   "outputs": [],
   "source": []
  }
 ],
 "metadata": {
  "kernelspec": {
   "display_name": "Python 3 (ipykernel)",
   "language": "python",
   "name": "python3"
  },
  "language_info": {
   "codemirror_mode": {
    "name": "ipython",
    "version": 3
   },
   "file_extension": ".py",
   "mimetype": "text/x-python",
   "name": "python",
   "nbconvert_exporter": "python",
   "pygments_lexer": "ipython3",
   "version": "3.10.2"
  }
 },
 "nbformat": 4,
 "nbformat_minor": 1
}
