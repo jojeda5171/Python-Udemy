{
 "cells": [
  {
   "cell_type": "code",
   "execution_count": 3,
   "metadata": {},
   "outputs": [
    {
     "name": "stdout",
     "output_type": "stream",
     "text": [
      "9\n",
      "8\n",
      "7\n",
      "6\n",
      "5\n",
      "4\n",
      "3\n",
      "2\n",
      "1\n",
      "boom\n",
      "Fin de la funcion 0\n",
      "Fin de la funcion 1\n",
      "Fin de la funcion 2\n",
      "Fin de la funcion 3\n",
      "Fin de la funcion 4\n",
      "Fin de la funcion 5\n",
      "Fin de la funcion 6\n",
      "Fin de la funcion 7\n",
      "Fin de la funcion 8\n",
      "Fin de la funcion 9\n"
     ]
    }
   ],
   "source": [
    "def cuenta_atras(num):\n",
    "    num-=1\n",
    "    if num>0:\n",
    "        print(num)\n",
    "        cuenta_atras(num)\n",
    "    else:\n",
    "        print(\"boom\")\n",
    "    print(\"Fin de la funcion\", num)\n",
    "cuenta_atras(10)"
   ]
  },
  {
   "cell_type": "code",
   "execution_count": 3,
   "metadata": {},
   "outputs": [
    {
     "name": "stdout",
     "output_type": "stream",
     "text": [
      "valor inicial:  5\n",
      "valor inicial:  4\n",
      "valor inicial:  3\n",
      "valor inicial:  2\n",
      "valor inicial:  1\n",
      "valor final:  1\n",
      "valor final:  2\n",
      "valor final:  6\n",
      "valor final:  24\n",
      "valor final:  120\n"
     ]
    },
    {
     "data": {
      "text/plain": [
       "120"
      ]
     },
     "execution_count": 3,
     "metadata": {},
     "output_type": "execute_result"
    }
   ],
   "source": [
    "def factorial(num):\n",
    "    print (\"valor inicial: \",num)\n",
    "    if num>1:\n",
    "        num=num*factorial(num-1)\n",
    "    print (\"valor final: \",num)\n",
    "    return num\n",
    "factorial(5)\n"
   ]
  },
  {
   "cell_type": "code",
   "execution_count": 5,
   "metadata": {},
   "outputs": [
    {
     "data": {
      "text/plain": [
       "15"
      ]
     },
     "execution_count": 5,
     "metadata": {},
     "output_type": "execute_result"
    }
   ],
   "source": [
    "def sumatorio(numero):\n",
    "    if numero>1:\n",
    "        numero=numero+sumatorio(numero-1)\n",
    "    return numero\n",
    "sumatorio(5)"
   ]
  },
  {
   "cell_type": "code",
   "execution_count": null,
   "metadata": {},
   "outputs": [],
   "source": []
  }
 ],
 "metadata": {
  "kernelspec": {
   "display_name": "Python 3 (ipykernel)",
   "language": "python",
   "name": "python3"
  },
  "language_info": {
   "codemirror_mode": {
    "name": "ipython",
    "version": 3
   },
   "file_extension": ".py",
   "mimetype": "text/x-python",
   "name": "python",
   "nbconvert_exporter": "python",
   "pygments_lexer": "ipython3",
   "version": "3.10.2"
  }
 },
 "nbformat": 4,
 "nbformat_minor": 1
}
