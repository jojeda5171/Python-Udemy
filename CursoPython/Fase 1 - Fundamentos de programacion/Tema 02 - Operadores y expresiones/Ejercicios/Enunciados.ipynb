{
 "cells": [
  {
   "cell_type": "markdown",
   "metadata": {},
   "source": [
    "# Tema 02: Operadores y expresiones (Enunciados)\n",
    "*Nota: Estos ejercicios son optativos para hacer al final de la unidad y están pensados para apoyar tu aprendizaje*."
   ]
  },
  {
   "cell_type": "markdown",
   "metadata": {},
   "source": [
    "**1) Realiza un programa que lea 2 números por teclado y determine los siguientes aspectos (es suficiene con mostrar True o False):**\n",
    "* Si los dos números son iguales\n",
    "* Si los dos números son diferentes\n",
    "* Si el primero es mayor que el segundo\n",
    "* Si el segundo es mayor o igual que el primero"
   ]
  },
  {
   "cell_type": "code",
   "execution_count": 2,
   "metadata": {},
   "outputs": [
    {
     "name": "stdout",
     "output_type": "stream",
     "text": [
      "Numero 1: 10\n",
      "Numero 2: 10\n",
      "Son iguales:  True\n",
      "Diferentes: False\n",
      "Primero mayor:  False\n",
      "Segundo menor o igual:  True\n"
     ]
    }
   ],
   "source": [
    "# Completa el ejercicio aquí\n",
    "n1=float(input(\"Numero 1: \"))\n",
    "n2=float(input(\"Numero 2: \"))\n",
    "\n",
    "print(\"Son iguales: \", n1==n2)\n",
    "print(\"Diferentes:\", n1!=n2)\n",
    "print(\"Primero mayor: \", n1>n2)\n",
    "print(\"Segundo menor o igual: \", n2>=n1)"
   ]
  },
  {
   "cell_type": "markdown",
   "metadata": {},
   "source": [
    "**2) Utilizando operadores lógicos, determina si una cadena de texto introducida por el usuario tiene una longitud mayor o igual que 3 y a su vez es menor que 10 (es suficiene con mostrar True o False):**"
   ]
  },
  {
   "cell_type": "code",
   "execution_count": 6,
   "metadata": {},
   "outputs": [
    {
     "name": "stdout",
     "output_type": "stream",
     "text": [
      "Cadena: Hola amigos como estan\n",
      "Cadena en el rango de 3-10:  False\n"
     ]
    }
   ],
   "source": [
    "# Completa el ejercicio aquí\n",
    "cadena=input(\"Cadena: \")\n",
    "print(\"Cadena en el rango de 3-10: \", len(cadena)>=3 and len(cadena)<10)"
   ]
  },
  {
   "cell_type": "markdown",
   "metadata": {},
   "source": [
    "**3) Realiza un programa que cumpla el siguiente algoritmo utilizando siempre que sea posible operadores en asignación:**\n",
    "* Guarda en una variable numero_magico el valor 12345679 (sin el 8)\n",
    "* Lee por pantalla otro numero_usuario, especifica que sea entre 1 y 9 (asegúrate que es un número)\n",
    "* Multiplica el numero_usuario por 9 en sí mismo\n",
    "* Multiplica el numero_magico por el numero_usuario en sí mismo\n",
    "* Finalmente muestra el valor final del numero_magico por pantalla\n"
   ]
  },
  {
   "cell_type": "code",
   "execution_count": 7,
   "metadata": {},
   "outputs": [
    {
     "name": "stdout",
     "output_type": "stream",
     "text": [
      "Ingresa un entero de 1 a 9: 8\n",
      "Numero magico:  888888888\n"
     ]
    }
   ],
   "source": [
    "# Completa el ejercicio aquí\n",
    "numero_magico=12345679\n",
    "numero_usuario=int(input(\"Ingresa un entero de 1 a 9: \"))\n",
    "numero_usuario*=9\n",
    "numero_magico*=numero_usuario\n",
    "print(\"Numero magico: \", numero_magico)"
   ]
  },
  {
   "cell_type": "code",
   "execution_count": null,
   "metadata": {},
   "outputs": [],
   "source": []
  }
 ],
 "metadata": {
  "anaconda-cloud": {},
  "kernelspec": {
   "display_name": "Python 3 (ipykernel)",
   "language": "python",
   "name": "python3"
  },
  "language_info": {
   "codemirror_mode": {
    "name": "ipython",
    "version": 3
   },
   "file_extension": ".py",
   "mimetype": "text/x-python",
   "name": "python",
   "nbconvert_exporter": "python",
   "pygments_lexer": "ipython3",
   "version": "3.10.2"
  }
 },
 "nbformat": 4,
 "nbformat_minor": 1
}
