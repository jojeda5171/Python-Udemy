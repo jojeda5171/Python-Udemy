{
 "cells": [
  {
   "cell_type": "code",
   "execution_count": 4,
   "metadata": {},
   "outputs": [
    {
     "name": "stdout",
     "output_type": "stream",
     "text": [
      "Se cumpre la condicion\n",
      "otro sms\n"
     ]
    }
   ],
   "source": [
    "if not False:\n",
    "    print(\"Se cumpre la condicion\")\n",
    "    print(\"otro sms\")"
   ]
  },
  {
   "cell_type": "code",
   "execution_count": 5,
   "metadata": {},
   "outputs": [
    {
     "name": "stdout",
     "output_type": "stream",
     "text": [
      "a vale 5\n"
     ]
    }
   ],
   "source": [
    "a=5\n",
    "if a==2:\n",
    "    print(\"a vale 2\")\n",
    "if a==5:\n",
    "    print(\"a vale 5\")"
   ]
  },
  {
   "cell_type": "code",
   "execution_count": 7,
   "metadata": {},
   "outputs": [
    {
     "name": "stdout",
     "output_type": "stream",
     "text": [
      "a vale:  5\n",
      "y b vale:  10\n"
     ]
    }
   ],
   "source": [
    "a=5\n",
    "b=10\n",
    "if a==5:\n",
    "    print (\"a vale: \",a)\n",
    "    if b==10:\n",
    "        print(\"y b vale: \",b)"
   ]
  },
  {
   "cell_type": "code",
   "execution_count": 9,
   "metadata": {},
   "outputs": [
    {
     "name": "stdout",
     "output_type": "stream",
     "text": [
      "a vale:  5\n",
      "b vale:  10\n"
     ]
    }
   ],
   "source": [
    "if a==5 and b==10:\n",
    "    print (\"a vale: \",a)\n",
    "    print(\"b vale: \",b)"
   ]
  },
  {
   "cell_type": "code",
   "execution_count": 13,
   "metadata": {},
   "outputs": [
    {
     "name": "stdout",
     "output_type": "stream",
     "text": [
      "11 es un numero impar\n"
     ]
    }
   ],
   "source": [
    "n=11\n",
    "if n%2==0:\n",
    "    print(n,\"es un numero par\")\n",
    "else:\n",
    "    print(n,\"es un numero impar\")"
   ]
  },
  {
   "cell_type": "code",
   "execution_count": 16,
   "metadata": {},
   "outputs": [
    {
     "name": "stdout",
     "output_type": "stream",
     "text": [
      "Hola buenas\n"
     ]
    }
   ],
   "source": [
    "comando=\"SALUDAR\"\n",
    "if comando==\"ENTRAR\":\n",
    "    print(\"Bienvenido al sistema\")\n",
    "elif comando==\"SALUDAR\":\n",
    "    print(\"Hola buenas\")\n",
    "elif comando==\"SALIR\":\n",
    "    print(\"ADIOS\")\n",
    "else:\n",
    "    print(\"Error\")"
   ]
  },
  {
   "cell_type": "code",
   "execution_count": 23,
   "metadata": {},
   "outputs": [
    {
     "name": "stdout",
     "output_type": "stream",
     "text": [
      "Ingrese una nota: 10\n",
      "perfecto\n"
     ]
    }
   ],
   "source": [
    "nota=float(input(\"Ingrese una nota: \"))\n",
    "if nota>=9:\n",
    "    print(\"perfecto\")\n",
    "elif nota>=7:\n",
    "    print(\"Notable\")\n",
    "elif nota>=6:\n",
    "    print(\"bien\")\n",
    "elif nota>=5:\n",
    "    print(\"Suficiente\")\n",
    "else:\n",
    "    print(\"Insuficiente\")"
   ]
  },
  {
   "cell_type": "code",
   "execution_count": null,
   "metadata": {},
   "outputs": [],
   "source": [
    "if True:\n",
    "    pass"
   ]
  }
 ],
 "metadata": {
  "kernelspec": {
   "display_name": "Python 3 (ipykernel)",
   "language": "python",
   "name": "python3"
  },
  "language_info": {
   "codemirror_mode": {
    "name": "ipython",
    "version": 3
   },
   "file_extension": ".py",
   "mimetype": "text/x-python",
   "name": "python",
   "nbconvert_exporter": "python",
   "pygments_lexer": "ipython3",
   "version": "3.10.2"
  }
 },
 "nbformat": 4,
 "nbformat_minor": 1
}
