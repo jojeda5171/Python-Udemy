{
 "cells": [
  {
   "cell_type": "code",
   "execution_count": 2,
   "metadata": {},
   "outputs": [
    {
     "name": "stdout",
     "output_type": "stream",
     "text": [
      "c vale: 1\n",
      "c vale: 2\n",
      "c vale: 3\n",
      "c vale: 4\n",
      "c vale: 5\n",
      "c vale: 6\n"
     ]
    }
   ],
   "source": [
    "c=0\n",
    "while c<=5:\n",
    "    c+=1\n",
    "    print(\"c vale:\",c)"
   ]
  },
  {
   "cell_type": "code",
   "execution_count": 3,
   "metadata": {},
   "outputs": [
    {
     "name": "stdout",
     "output_type": "stream",
     "text": [
      "c vale: 1\n",
      "c vale: 2\n",
      "c vale: 3\n",
      "c vale: 4\n",
      "c vale: 5\n",
      "c vale: 6\n",
      "Se a tcompletado el bucle y c vale: 6\n"
     ]
    }
   ],
   "source": [
    "c=0\n",
    "while c<=5:\n",
    "    c+=1\n",
    "    print(\"c vale:\",c)\n",
    "else:\n",
    "    print(\"Se a tcompletado el bucle y c vale:\",c)"
   ]
  },
  {
   "cell_type": "code",
   "execution_count": 6,
   "metadata": {},
   "outputs": [
    {
     "name": "stdout",
     "output_type": "stream",
     "text": [
      "c vale: 1\n",
      "romo el bucle c vale: 2\n"
     ]
    }
   ],
   "source": [
    "c=0\n",
    "while c<=5:\n",
    "    c+=1\n",
    "    if(c==2):\n",
    "        print(\"rompo el bucle c vale:\",c)\n",
    "        break\n",
    "    print(\"c vale:\",c)\n",
    "else:\n",
    "    print(\"Se a tcompletado el bucle y c vale:\",c)"
   ]
  },
  {
   "cell_type": "code",
   "execution_count": 7,
   "metadata": {},
   "outputs": [
    {
     "name": "stdout",
     "output_type": "stream",
     "text": [
      "c vale: 1\n",
      "continuamos con la siguiente iteracion c vale: 2\n",
      "c vale: 3\n",
      "c vale: 4\n",
      "c vale: 5\n",
      "c vale: 6\n",
      "Se a tcompletado el bucle y c vale: 6\n"
     ]
    }
   ],
   "source": [
    "c=0\n",
    "while c<=5:\n",
    "    c+=1\n",
    "    if(c==2):\n",
    "        print(\"continuamos con la siguiente iteracion c vale:\",c)\n",
    "        continue\n",
    "    print(\"c vale:\",c)\n",
    "else:\n",
    "    print(\"Se a tcompletado el bucle y c vale:\",c)"
   ]
  },
  {
   "cell_type": "code",
   "execution_count": 8,
   "metadata": {},
   "outputs": [
    {
     "name": "stdout",
     "output_type": "stream",
     "text": [
      "Bienvenido al menu interativo\n",
      "¿Que quieres hacer?\n",
      "    1) Saludar\n",
      "    2) Sumar dos numeros\n",
      "    3) Salir\n",
      "1\n",
      "Hola, espero que lo estes pasando bien\n",
      "¿Que quieres hacer?\n",
      "    1) Saludar\n",
      "    2) Sumar dos numeros\n",
      "    3) Salir\n",
      "2\n",
      "Numero 1: 2\n",
      "Numero 2: 2\n",
      "Suma: 4.0\n",
      "¿Que quieres hacer?\n",
      "    1) Saludar\n",
      "    2) Sumar dos numeros\n",
      "    3) Salir\n",
      "3\n",
      "Adios\n"
     ]
    }
   ],
   "source": [
    "print (\"Bienvenido al menu interativo\")\n",
    "while True:\n",
    "    print(\"\"\"¿Que quieres hacer?\n",
    "    1) Saludar\n",
    "    2) Sumar dos numeros\n",
    "    3) Salir\"\"\")\n",
    "    opcion=input()\n",
    "    if opcion=='1':\n",
    "        print(\"Hola, espero que lo estes pasando bien\")\n",
    "    elif opcion=='2':\n",
    "        n1=float(input(\"Numero 1: \"))\n",
    "        n2=float(input(\"Numero 2: \"))\n",
    "        print(\"Suma:\",n1+n2)\n",
    "    elif opcion=='3':\n",
    "        print(\"Adios\")\n",
    "        break\n",
    "    else:\n",
    "        print(\"Opcion no valida\")"
   ]
  },
  {
   "cell_type": "code",
   "execution_count": null,
   "metadata": {},
   "outputs": [],
   "source": []
  }
 ],
 "metadata": {
  "kernelspec": {
   "display_name": "Python 3 (ipykernel)",
   "language": "python",
   "name": "python3"
  },
  "language_info": {
   "codemirror_mode": {
    "name": "ipython",
    "version": 3
   },
   "file_extension": ".py",
   "mimetype": "text/x-python",
   "name": "python",
   "nbconvert_exporter": "python",
   "pygments_lexer": "ipython3",
   "version": "3.10.5"
  }
 },
 "nbformat": 4,
 "nbformat_minor": 1
}
