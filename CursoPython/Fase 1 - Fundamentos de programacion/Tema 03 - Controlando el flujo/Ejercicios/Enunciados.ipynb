{
 "cells": [
  {
   "cell_type": "markdown",
   "metadata": {},
   "source": [
    "# Tema 03: Control de flujo (Enunciados)\n",
    "*Nota: Estos ejercicios son optativos para hacer al final de la unidad y están pensados para apoyar tu aprendizaje*."
   ]
  },
  {
   "cell_type": "markdown",
   "metadata": {},
   "source": [
    "**1) Realiza un programa que lea dos números por teclado y permita elegir entre 3 opciones en un menú:** \n",
    "* Mostrar una suma de los dos números\n",
    "* Mostrar una resta de los dos números (el primero menos el segundo)\n",
    "* Mostrar una multiplicación de los dos números\n",
    "* En caso de no introducir una opción válida, el programa informará de que no es correcta."
   ]
  },
  {
   "cell_type": "code",
   "execution_count": 5,
   "metadata": {},
   "outputs": [
    {
     "name": "stdout",
     "output_type": "stream",
     "text": [
      "Numero 1: 5\n",
      "Numero 2: 5\n",
      "¿Que desea hacer?\n",
      "1) Suma de dos numeros\n",
      "2) Resta de dos numeros\n",
      "3) Multiplicacion de dos numeros\n",
      "5\n",
      "Opcion incorrecta\n"
     ]
    }
   ],
   "source": [
    "# Completa el ejercicio aquí\n",
    "n1=float(input(\"Numero 1: \"))\n",
    "n2=float(input(\"Numero 2: \"))\n",
    "\n",
    "print(\"\"\"¿Que desea hacer?\n",
    "1) Suma de dos numeros\n",
    "2) Resta de dos numeros\n",
    "3) Multiplicacion de dos numeros\"\"\")\n",
    "op=input()\n",
    "    \n",
    "if (op=='1'):\n",
    "    print(\"Suma:\",n1+n2)\n",
    "elif(op=='2'):\n",
    "    print(\"Resta:\",n1-n2)\n",
    "elif(op=='3'):\n",
    "    print(\"Multiplicacion:\",n1*n2)\n",
    "else:\n",
    "    print(\"Opcion incorrecta\")"
   ]
  },
  {
   "cell_type": "markdown",
   "metadata": {},
   "source": [
    "**2) Realiza un programa que lea un número impar por teclado. Si el usuario no introduce un número impar, debe repetise el proceso hasta que lo introduzca correctamente.**"
   ]
  },
  {
   "cell_type": "code",
   "execution_count": 8,
   "metadata": {},
   "outputs": [
    {
     "name": "stdout",
     "output_type": "stream",
     "text": [
      "Ingrese un numero impar: 2\n",
      "Ingrese un numero impar: 4\n",
      "Ingrese un numero impar: 6\n",
      "Ingrese un numero impar: 8\n",
      "Ingrese un numero impar: 10\n",
      "Ingrese un numero impar: 1\n",
      "1.0\n"
     ]
    }
   ],
   "source": [
    "# Completa el ejercicio aquí\n",
    "while True:\n",
    "    n=float(input(\"Ingrese un numero impar: \"))\n",
    "    if(n%2)!=0:\n",
    "        break\n",
    "print (n)"
   ]
  },
  {
   "cell_type": "markdown",
   "metadata": {},
   "source": [
    "**3) Realiza un programa que sume todos los números enteros pares desde el 0 hasta el 100:**\n",
    "\n",
    "*Sugerencia: Puedes utilizar la funciones sum() y range() para hacerlo más fácil. El tercer parámetro en la función range(inicio, fin, salto) indica un salto de números, pruébalo.*"
   ]
  },
  {
   "cell_type": "code",
   "execution_count": 12,
   "metadata": {},
   "outputs": [
    {
     "data": {
      "text/plain": [
       "2550"
      ]
     },
     "execution_count": 12,
     "metadata": {},
     "output_type": "execute_result"
    }
   ],
   "source": [
    "# Completa el ejercicio aquí\n",
    "lista=list(range(0,101,2))\n",
    "suma=0\n",
    "for i in lista:\n",
    "    suma+=i\n",
    "#lista\n",
    "suma"
   ]
  },
  {
   "cell_type": "markdown",
   "metadata": {},
   "source": [
    "**4) Realiza un programa que pida al usuario cuantos números quiere introducir. Luego lee todos los números y realiza una media aritmética:**\n"
   ]
  },
  {
   "cell_type": "code",
   "execution_count": 20,
   "metadata": {},
   "outputs": [
    {
     "name": "stdout",
     "output_type": "stream",
     "text": [
      "Cuantos numeros va a ingresar? 4\n",
      "Numero: 5\n",
      "Numero: 5\n",
      "Numero: 5\n",
      "Numero: 5\n",
      "5.0\n"
     ]
    }
   ],
   "source": [
    "# Completa el ejercicio aquí\n",
    "numeros=int(input(\"Cuantos numeros va a ingresar? \"))\n",
    "i=1\n",
    "suma=0\n",
    "while i<=numeros:\n",
    "    suma+=float(input(\"Numero: \"))\n",
    "    i+=1\n",
    "else:\n",
    "    print(suma/numeros)"
   ]
  },
  {
   "cell_type": "markdown",
   "metadata": {},
   "source": [
    "**5) Realiza un programa que pida al usuario un número entero del 0 al 9, y que mientras el número no sea correcto se repita el proceso. Luego debe comprobar si el número se encuentra en la lista de números y notificarlo:**\n",
    "\n",
    "*Consejo: La sintaxis \"valor in lista\" permite comprobar fácilmente si un valor se encuentra en una lista (devuelve True o False)*"
   ]
  },
  {
   "cell_type": "code",
   "execution_count": 22,
   "metadata": {},
   "outputs": [
    {
     "name": "stdout",
     "output_type": "stream",
     "text": [
      "Numero entre 0-9: 1\n",
      "Si esta\n"
     ]
    }
   ],
   "source": [
    "# Completa el ejercicio aquí\n",
    "numeros = [1, 3, 6, 9]\n",
    "\n",
    "while True:\n",
    "    num=int(input(\"Numero entre 0-9: \"))\n",
    "    if num>=0 and num<=9:\n",
    "        break\n",
    "if num in numeros:\n",
    "    print(\"Si esta\")\n",
    "else:\n",
    "    print(\"No esta\")"
   ]
  },
  {
   "cell_type": "markdown",
   "metadata": {},
   "source": [
    "**6) Utilizando la función range() y la conversión a listas genera las siguientes listas dinámicamente:**\n",
    "* Todos los números del 0 al 10 [0, 1, 2, ..., 10]\n",
    "* Todos los números del -10 al 0 [-10, -9, -8, ..., 0]\n",
    "* Todos los números pares del 0 al 20 [0, 2, 4, ..., 20]\n",
    "* Todos los números impares entre -20 y 0 [-19, -17, -15, ..., -1]\n",
    "* Todos los números múltiples de 5 del 0 al 50 [0, 5, 10, ..., 50]\n",
    "\n",
    "*Pista: Utiliza el tercer parámetro de la función range(inicio, fin, salto).*"
   ]
  },
  {
   "cell_type": "code",
   "execution_count": 36,
   "metadata": {},
   "outputs": [
    {
     "name": "stdout",
     "output_type": "stream",
     "text": [
      "[0, 1, 2, 3, 4, 5, 6, 7, 8, 9, 10]\n",
      "[-10, -9, -8, -7, -6, -5, -4, -3, -2, -1, 0]\n",
      "[0, 2, 4, 6, 8, 10, 12, 14, 16, 18, 20]\n",
      "[-19, -17, -15, -13, -11, -9, -7, -5, -3, -1]\n",
      "[0, 5, 10, 15, 20, 25, 30, 35, 40, 45, 50]\n"
     ]
    }
   ],
   "source": [
    "# Completa el ejercicio\n",
    "lista1=list(range(0,11))\n",
    "print(lista1)\n",
    "lista2=list(range(-10,1))\n",
    "print(lista2)\n",
    "lista3=list(range(0,21,2))\n",
    "print(lista3)\n",
    "lista4=list(range(-19,1,2))\n",
    "print(lista4)\n",
    "lista5=list(range(0,51,5))\n",
    "print(lista5)"
   ]
  },
  {
   "cell_type": "markdown",
   "metadata": {},
   "source": [
    "**7) Dadas dos listas, debes generar una tercera con todos los elementos que se repitan en ellas, pero no debe repetise ningún elemento en la nueva lista:**"
   ]
  },
  {
   "cell_type": "code",
   "execution_count": 38,
   "metadata": {},
   "outputs": [
    {
     "name": "stdout",
     "output_type": "stream",
     "text": [
      "['h', 'o', 'l', 'a', ' ', 'u', 'n']\n"
     ]
    }
   ],
   "source": [
    "# Completa el ejercicio aquí\n",
    "lista1=[\"h\",\"o\",\"l\",\"a\",\" \",\"m\",\"u\",\"n\",\"d\",\"o\"]\n",
    "lista2=[\"h\",\"o\",\"l\",\"a\",\" \",\"l\",\"u\",\"n\",\"a\"]\n",
    "lista3=[]\n",
    "for letra in lista1:\n",
    "    if letra in lista2 and letra not in lista3:\n",
    "        lista3.append(letra)\n",
    "print (lista3)"
   ]
  },
  {
   "cell_type": "code",
   "execution_count": null,
   "metadata": {},
   "outputs": [],
   "source": []
  }
 ],
 "metadata": {
  "anaconda-cloud": {},
  "kernelspec": {
   "display_name": "Python 3 (ipykernel)",
   "language": "python",
   "name": "python3"
  },
  "language_info": {
   "codemirror_mode": {
    "name": "ipython",
    "version": 3
   },
   "file_extension": ".py",
   "mimetype": "text/x-python",
   "name": "python",
   "nbconvert_exporter": "python",
   "pygments_lexer": "ipython3",
   "version": "3.10.2"
  }
 },
 "nbformat": 4,
 "nbformat_minor": 1
}
