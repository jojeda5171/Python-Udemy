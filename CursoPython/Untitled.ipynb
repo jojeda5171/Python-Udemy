{
 "cells": [
  {
   "cell_type": "markdown",
   "id": "fa8ecdee",
   "metadata": {},
   "source": [
    "Descargar videos de YouTube"
   ]
  },
  {
   "cell_type": "code",
   "execution_count": null,
   "id": "68e886b5",
   "metadata": {},
   "outputs": [],
   "source": [
    "import pytube\n",
    "url=input(\"Ingresa la url: \")\n",
    "path=\"D:\"\n",
    "pytube.YouTube(url).streams.get_highest_resolution().download(path)"
   ]
  },
  {
   "cell_type": "code",
   "execution_count": null,
   "id": "870f5f4e",
   "metadata": {},
   "outputs": [],
   "source": []
  },
  {
   "cell_type": "code",
   "execution_count": null,
   "id": "f5bae33b",
   "metadata": {},
   "outputs": [],
   "source": []
  }
 ],
 "metadata": {
  "kernelspec": {
   "display_name": "Python 3 (ipykernel)",
   "language": "python",
   "name": "python3"
  },
  "language_info": {
   "codemirror_mode": {
    "name": "ipython",
    "version": 3
   },
   "file_extension": ".py",
   "mimetype": "text/x-python",
   "name": "python",
   "nbconvert_exporter": "python",
   "pygments_lexer": "ipython3",
   "version": "3.10.5"
  }
 },
 "nbformat": 4,
 "nbformat_minor": 5
}
