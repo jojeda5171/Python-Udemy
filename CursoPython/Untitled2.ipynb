{
 "cells": [
  {
   "cell_type": "markdown",
   "id": "686a6a5a",
   "metadata": {},
   "source": [
    "# Titulo 1\n",
    "## Titulo 2\n",
    "### Titulo 3"
   ]
  },
  {
   "cell_type": "markdown",
   "id": "2f9ca574",
   "metadata": {},
   "source": [
    "Esta clase vimos instalación de python"
   ]
  },
  {
   "cell_type": "markdown",
   "id": "305c8249",
   "metadata": {},
   "source": [
    "Se instalo:\n",
    "- vsc\n",
    "- python\n",
    "- jupyter"
   ]
  },
  {
   "cell_type": "markdown",
   "id": "7ecb94e0",
   "metadata": {},
   "source": [
    "este texto es **importante**"
   ]
  },
  {
   "cell_type": "markdown",
   "id": "fa6c85d5",
   "metadata": {},
   "source": [
    "*cursiva*"
   ]
  },
  {
   "cell_type": "code",
   "execution_count": 2,
   "id": "a856c316",
   "metadata": {},
   "outputs": [
    {
     "name": "stdout",
     "output_type": "stream",
     "text": [
      "Hola mundo\n"
     ]
    }
   ],
   "source": [
    "print(\"Hola mundo\")"
   ]
  },
  {
   "cell_type": "code",
   "execution_count": null,
   "id": "8232883a",
   "metadata": {},
   "outputs": [],
   "source": []
  }
 ],
 "metadata": {
  "kernelspec": {
   "display_name": "Python 3 (ipykernel)",
   "language": "python",
   "name": "python3"
  },
  "language_info": {
   "codemirror_mode": {
    "name": "ipython",
    "version": 3
   },
   "file_extension": ".py",
   "mimetype": "text/x-python",
   "name": "python",
   "nbconvert_exporter": "python",
   "pygments_lexer": "ipython3",
   "version": "3.10.5"
  }
 },
 "nbformat": 4,
 "nbformat_minor": 5
}
