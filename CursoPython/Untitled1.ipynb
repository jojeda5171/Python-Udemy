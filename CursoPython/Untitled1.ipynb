{
 "cells": [
  {
   "cell_type": "markdown",
   "id": "ca3babe6",
   "metadata": {},
   "source": [
    "Aqui el estudiante puede realizar notas de la clase simulando un cuaderno "
   ]
  },
  {
   "cell_type": "code",
   "execution_count": 6,
   "id": "bd6ac8e0",
   "metadata": {},
   "outputs": [
    {
     "name": "stdout",
     "output_type": "stream",
     "text": [
      "Ingresa la url: https://www.youtube.com/watch?v=De2FH9Df0gE\n"
     ]
    },
    {
     "data": {
      "text/plain": [
       "'D:\\\\Repositorios\\\\Python-Udemy\\\\CursoPython\\\\FALL GUYS Pero Si Pierdo SE ACABA EL VIDEO.mp4'"
      ]
     },
     "execution_count": 6,
     "metadata": {},
     "output_type": "execute_result"
    }
   ],
   "source": [
    "import pytube\n",
    "url=input(\"Ingresa la url: \")\n",
    "path=\"D:\\Repositorios\\Python-Udemy\\CursoPython\"\n",
    "pytube.YouTube(url).streams.get_highest_resolution().download(path)"
   ]
  },
  {
   "cell_type": "markdown",
   "id": "a9152633",
   "metadata": {},
   "source": [
    "# Aqui puede seguir tomando notas despues del codigo y explicar cosas que necesiten"
   ]
  },
  {
   "cell_type": "code",
   "execution_count": 7,
   "id": "0d7b51ac",
   "metadata": {},
   "outputs": [
    {
     "name": "stdout",
     "output_type": "stream",
     "text": [
      "Hola mundo\n"
     ]
    }
   ],
   "source": [
    "print(\"Hola mundo\")"
   ]
  },
  {
   "cell_type": "markdown",
   "id": "64828c6c",
   "metadata": {},
   "source": [
    "###### Titulo"
   ]
  },
  {
   "cell_type": "code",
   "execution_count": null,
   "id": "c5114cd7",
   "metadata": {},
   "outputs": [],
   "source": []
  }
 ],
 "metadata": {
  "kernelspec": {
   "display_name": "Python 3 (ipykernel)",
   "language": "python",
   "name": "python3"
  },
  "language_info": {
   "codemirror_mode": {
    "name": "ipython",
    "version": 3
   },
   "file_extension": ".py",
   "mimetype": "text/x-python",
   "name": "python",
   "nbconvert_exporter": "python",
   "pygments_lexer": "ipython3",
   "version": "3.10.5"
  }
 },
 "nbformat": 4,
 "nbformat_minor": 5
}
