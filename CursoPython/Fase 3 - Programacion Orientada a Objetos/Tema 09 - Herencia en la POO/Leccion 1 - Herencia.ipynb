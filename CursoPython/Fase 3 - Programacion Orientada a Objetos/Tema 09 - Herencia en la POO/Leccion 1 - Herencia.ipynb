{
 "cells": [
  {
   "cell_type": "code",
   "execution_count": 5,
   "metadata": {},
   "outputs": [],
   "source": [
    "class Producto:\n",
    "    def __init__ (self, referencia, tipo, nombre, pvp, descripcion, productor=None, distribuidor=None, isbn=None, autor=None):\n",
    "        self.referencia=referencia\n",
    "        self.tipo=tipo\n",
    "        self.nombre=nombre\n",
    "        self.pvp=pvp\n",
    "        self.descripcion=descripcion\n",
    "        self.productor=productor\n",
    "        self.distribuidor=distribuidor\n",
    "        self.isbn=isbn\n",
    "        self.autor=autor\n",
    "adorno=Producto('000A', 'ADORNO', 'Vaso Adornado', 15, 'Vaso de porcelana con dibujos')"
   ]
  },
  {
   "cell_type": "code",
   "execution_count": 6,
   "metadata": {},
   "outputs": [
    {
     "data": {
      "text/plain": [
       "<__main__.Producto at 0x23260385d20>"
      ]
     },
     "execution_count": 6,
     "metadata": {},
     "output_type": "execute_result"
    }
   ],
   "source": [
    "adorno"
   ]
  },
  {
   "cell_type": "code",
   "execution_count": 7,
   "metadata": {},
   "outputs": [
    {
     "data": {
      "text/plain": [
       "'ADORNO'"
      ]
     },
     "execution_count": 7,
     "metadata": {},
     "output_type": "execute_result"
    }
   ],
   "source": [
    "adorno.tipo"
   ]
  },
  {
   "cell_type": "code",
   "execution_count": 17,
   "metadata": {},
   "outputs": [
    {
     "name": "stdout",
     "output_type": "stream",
     "text": [
      "REFERENCIA\t2034\n",
      "NOMBRE\t\tVaso adornado\n",
      "PVP\t\t15\n",
      "DESCRIPCION\tVaso de porcelana adornado con arboles\n"
     ]
    }
   ],
   "source": [
    "class Producto:\n",
    "    def __init__ (self, referencia, nombre, pvp, descripcion):\n",
    "        self.referencia=referencia\n",
    "        self.nombre=nombre\n",
    "        self.pvp=pvp\n",
    "        self.descripcion=descripcion\n",
    "    def __str__(self):\n",
    "        return \"\"\"\\\n",
    "REFERENCIA\\t{}\n",
    "NOMBRE\\t\\t{}\n",
    "PVP\\t\\t{}\n",
    "DESCRIPCION\\t{}\"\"\".format(self.referencia, self.nombre, self.pvp, self.descripcion)\n",
    "\n",
    "class Adorno(Producto):\n",
    "    pass\n",
    "\n",
    "a=Adorno(2034, \"Vaso adornado\", 15, \"Vaso de porcelana adornado con arboles\")\n",
    "print (a)"
   ]
  },
  {
   "cell_type": "code",
   "execution_count": 20,
   "metadata": {},
   "outputs": [
    {
     "name": "stdout",
     "output_type": "stream",
     "text": [
      "REFERENCIA\t2035\n",
      "NOMBRE\t\tBotella de Aceite de oliva extra\n",
      "PVP\t\t5\n",
      "DESCRIPCION\t250 ML\n",
      "PRODUCTOR\tLa aceitera\n",
      "DISTRIBUIDOR\tDistribuciones SA\n"
     ]
    }
   ],
   "source": [
    "class Alimento(Producto):\n",
    "    productor=\"\"\n",
    "    distribuidor=\"\"\n",
    "    \n",
    "    def __str__(self):\n",
    "        return \"\"\"\\\n",
    "REFERENCIA\\t{}\n",
    "NOMBRE\\t\\t{}\n",
    "PVP\\t\\t{}\n",
    "DESCRIPCION\\t{}\n",
    "PRODUCTOR\\t{}\n",
    "DISTRIBUIDOR\\t{}\"\"\".format(self.referencia, self.nombre, self.pvp, self.descripcion, self.productor, self.distribuidor)\n",
    "\n",
    "al=Alimento(2035, \"Botella de Aceite de oliva extra\", 5, \"250 ML\")\n",
    "al.productor=\"La aceitera\"\n",
    "al.distribuidor=\"Distribuciones SA\"\n",
    "\n",
    "print(al)"
   ]
  },
  {
   "cell_type": "code",
   "execution_count": 24,
   "metadata": {},
   "outputs": [
    {
     "name": "stdout",
     "output_type": "stream",
     "text": [
      "REFERENCIA\t2036\n",
      "NOMBRE\t\tCocina mediterranea\n",
      "PVP\t\t9\n",
      "DESCRIPCION\tRecetas sanas y buenas\n",
      "ISBN\t\t0-000-000\n",
      "AUTOR\t\tDoña Juana\n"
     ]
    }
   ],
   "source": [
    "class Libro(Producto):\n",
    "    isbn=\"\"\n",
    "    autor=\"\"\n",
    "    \n",
    "    def __str__(self):\n",
    "        return \"\"\"\\\n",
    "REFERENCIA\\t{}\n",
    "NOMBRE\\t\\t{}\n",
    "PVP\\t\\t{}\n",
    "DESCRIPCION\\t{}\n",
    "ISBN\\t\\t{}\n",
    "AUTOR\\t\\t{}\"\"\".format(self.referencia, self.nombre, self.pvp, self.descripcion, self.isbn, self.autor)\n",
    "\n",
    "li=Libro(2036,\"Cocina mediterranea\", 9, \"Recetas sanas y buenas\")\n",
    "li.isbn=\"0-000-000\"\n",
    "li.autor=\"Doña Juana\"\n",
    "print(li)"
   ]
  },
  {
   "cell_type": "code",
   "execution_count": null,
   "metadata": {},
   "outputs": [],
   "source": []
  }
 ],
 "metadata": {
  "kernelspec": {
   "display_name": "Python 3 (ipykernel)",
   "language": "python",
   "name": "python3"
  },
  "language_info": {
   "codemirror_mode": {
    "name": "ipython",
    "version": 3
   },
   "file_extension": ".py",
   "mimetype": "text/x-python",
   "name": "python",
   "nbconvert_exporter": "python",
   "pygments_lexer": "ipython3",
   "version": "3.10.2"
  }
 },
 "nbformat": 4,
 "nbformat_minor": 1
}
