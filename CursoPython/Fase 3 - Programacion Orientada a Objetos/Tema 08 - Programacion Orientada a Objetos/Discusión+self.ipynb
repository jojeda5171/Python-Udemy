{
 "cells": [
  {
   "cell_type": "markdown",
   "id": "dd79f232",
   "metadata": {},
   "source": [
    "# Discusión sobre self\n",
    "\n",
    "En esta lección extendida vamos a desentrañar el significado de `self` y qué representa.\n",
    "\n",
    "Cuando definimos un método en una clase y no pasamos un primer argumento al ejecutarlo obtenemos un error:"
   ]
  },
  {
   "cell_type": "code",
   "execution_count": 5,
   "id": "e81d762f",
   "metadata": {},
   "outputs": [
    {
     "ename": "TypeError",
     "evalue": "A.__init__() takes 0 positional arguments but 1 was given",
     "output_type": "error",
     "traceback": [
      "\u001b[1;31m------------------------------------------------------------------\u001b[0m",
      "\u001b[1;31mTypeError\u001b[0m                        Traceback (most recent call last)",
      "Input \u001b[1;32mIn [5]\u001b[0m, in \u001b[0;36m<module>\u001b[1;34m\u001b[0m\n\u001b[0;32m      2\u001b[0m     \u001b[38;5;28;01mdef\u001b[39;00m \u001b[38;5;21m__init__\u001b[39m():\n\u001b[0;32m      3\u001b[0m         \u001b[38;5;28mprint\u001b[39m(\u001b[38;5;124m\"\u001b[39m\u001b[38;5;124mPrueba\u001b[39m\u001b[38;5;124m\"\u001b[39m)\n\u001b[1;32m----> 5\u001b[0m a \u001b[38;5;241m=\u001b[39m \u001b[43mA\u001b[49m\u001b[43m(\u001b[49m\u001b[43m)\u001b[49m\n",
      "\u001b[1;31mTypeError\u001b[0m: A.__init__() takes 0 positional arguments but 1 was given"
     ]
    }
   ],
   "source": [
    "class A:\n",
    "    def __init__():\n",
    "        print(\"Prueba\")\n",
    "        \n",
    "a = A()"
   ]
  },
  {
   "cell_type": "markdown",
   "id": "e4dbb0cd",
   "metadata": {},
   "source": [
    "Este error nos indica que se envió un argumento posicional pero como no hemos definido ninguno ocurre el fallo.\n",
    "\n",
    "¿Qué es realmente este argumento? Veámoslo con detenimiento:"
   ]
  },
  {
   "cell_type": "code",
   "execution_count": 6,
   "id": "eaadbe53",
   "metadata": {},
   "outputs": [
    {
     "name": "stdout",
     "output_type": "stream",
     "text": [
      "<__main__.A object at 0x00000217E6230430>\n"
     ]
    }
   ],
   "source": [
    "class A:\n",
    "    def __init__(argumento):\n",
    "        print(argumento)\n",
    "        \n",
    "a = A()"
   ]
  },
  {
   "cell_type": "markdown",
   "id": "f9d9c08f",
   "metadata": {},
   "source": [
    "Lo que tenemos aquí es la forma de Python de imprimir un objeto y su dirección en la memoria: \n",
    "\n",
    "> *Objeto de clase A almacenado en la posición de la memoria 0x00000217E6230430*\n",
    "\n",
    "En otras palabras, este argumento se trata ni más ni menos que de la instancia del propio objeto en la memoria y es gracias a él que los métodos de un mismo objeto se pueden comunicar entre ellos.\n",
    "\n",
    "En la mayoría de lenguajes este argumento es implícito y no se debe definir, pero en Python debemos programarlo manualmente y aunque podemos elegir el nombre, por convención se le suele llamar `self`. \n",
    "\n",
    "El [Zen de Python](https://es.wikipedia.org/wiki/Zen_de_Python) dice que **Explícito es mejor que implícito**, lo cuál aplica en este caso, pues somos consciente en todo momento de que tenemos la instancia, en lugar de tener que presuponer o deducir sobre su existencia."
   ]
  },
  {
   "cell_type": "code",
   "execution_count": 14,
   "id": "9fb729c0",
   "metadata": {},
   "outputs": [
    {
     "name": "stdout",
     "output_type": "stream",
     "text": [
      "<__main__.A object at 0x00000217E61AF550>\n"
     ]
    }
   ],
   "source": [
    "class A:\n",
    "    def __init__(self):\n",
    "        print(self)\n",
    "        \n",
    "a = A()"
   ]
  },
  {
   "cell_type": "markdown",
   "id": "76acf555",
   "metadata": {},
   "source": [
    "A todo esto podemos consultar el Zen de Python importando el módulo `this`:"
   ]
  },
  {
   "cell_type": "code",
   "execution_count": 1,
   "id": "8a08a678",
   "metadata": {},
   "outputs": [
    {
     "name": "stdout",
     "output_type": "stream",
     "text": [
      "The Zen of Python, by Tim Peters\n",
      "\n",
      "Beautiful is better than ugly.\n",
      "Explicit is better than implicit.\n",
      "Simple is better than complex.\n",
      "Complex is better than complicated.\n",
      "Flat is better than nested.\n",
      "Sparse is better than dense.\n",
      "Readability counts.\n",
      "Special cases aren't special enough to break the rules.\n",
      "Although practicality beats purity.\n",
      "Errors should never pass silently.\n",
      "Unless explicitly silenced.\n",
      "In the face of ambiguity, refuse the temptation to guess.\n",
      "There should be one-- and preferably only one --obvious way to do it.\n",
      "Although that way may not be obvious at first unless you're Dutch.\n",
      "Now is better than never.\n",
      "Although never is often better than *right* now.\n",
      "If the implementation is hard to explain, it's a bad idea.\n",
      "If the implementation is easy to explain, it may be a good idea.\n",
      "Namespaces are one honking great idea -- let's do more of those!\n"
     ]
    }
   ],
   "source": [
    "import this"
   ]
  },
  {
   "cell_type": "markdown",
   "id": "3ca750bb",
   "metadata": {},
   "source": [
    "## ¿Métodos sin instancia?\n",
    "\n",
    "Como curiosidad en Python una clase puede utilizarse como una simple colección de métodos. En esos escenarios no es necesario crear una instancia de la clase y por lo tanto tampoco es necesario definir el primer argumento, podemos ejecutarlos directamente de ella:"
   ]
  },
  {
   "cell_type": "code",
   "execution_count": 17,
   "id": "d56e6a61",
   "metadata": {},
   "outputs": [
    {
     "name": "stdout",
     "output_type": "stream",
     "text": [
      "Buenas\n",
      "Adiós\n"
     ]
    }
   ],
   "source": [
    "class Libreria:\n",
    "    \n",
    "    def saludar():\n",
    "        print(\"Buenas\")\n",
    "        \n",
    "    def despedirse():\n",
    "        print(\"Adiós\")\n",
    "        \n",
    "Libreria.saludar()\n",
    "Libreria.despedirse()"
   ]
  },
  {
   "cell_type": "markdown",
   "id": "66d1fa65",
   "metadata": {},
   "source": [
    "## Atributos de clase"
   ]
  },
  {
   "cell_type": "markdown",
   "id": "fd122c77",
   "metadata": {},
   "source": [
    "Una clase, pese a ser una definición, existe en la memoria del programa:"
   ]
  },
  {
   "cell_type": "code",
   "execution_count": 24,
   "id": "d81e0503",
   "metadata": {},
   "outputs": [
    {
     "name": "stdout",
     "output_type": "stream",
     "text": [
      "<class '__main__.Libreria'> en 0x217e4089800\n"
     ]
    }
   ],
   "source": [
    "print(Libreria, \"en\", hex(id(Libreria)))"
   ]
  },
  {
   "cell_type": "markdown",
   "id": "5bc03be2",
   "metadata": {},
   "source": [
    "Esto nos permite trabajar tanto con métodos como atributos explícitos de la clase de forma cómoda, por ejemplo tener un contador de instancias de la propia clase:"
   ]
  },
  {
   "cell_type": "code",
   "execution_count": 29,
   "id": "0dd156f3",
   "metadata": {
    "scrolled": true
   },
   "outputs": [
    {
     "name": "stdout",
     "output_type": "stream",
     "text": [
      "Instancias de Test creadas 1\n",
      "Instancias de Test creadas 2\n",
      "Instancias de Test creadas 3\n",
      "Instancias de Test creadas 4\n",
      "Instancias de Test creadas 5\n",
      "Instancias de Test creadas 6\n",
      "Instancias de Test creadas 7\n",
      "Instancias de Test creadas 8\n",
      "Instancias de Test creadas 9\n",
      "Instancias de Test creadas 10\n"
     ]
    }
   ],
   "source": [
    "class Test:\n",
    "    contador = 0\n",
    "    \n",
    "    def __init__(self):\n",
    "        Test.contador+=1\n",
    "        print(\"Instancias de Test creadas\", Test.contador)\n",
    "    \n",
    "for i in range(10):\n",
    "    Test()"
   ]
  },
  {
   "cell_type": "markdown",
   "id": "f91252ec",
   "metadata": {},
   "source": [
    "Por cosas como esta Python es un lenguaje tan especial."
   ]
  },
  {
   "cell_type": "code",
   "execution_count": null,
   "id": "5b409a12",
   "metadata": {},
   "outputs": [],
   "source": []
  }
 ],
 "metadata": {
  "kernelspec": {
   "display_name": "Python 3 (ipykernel)",
   "language": "python",
   "name": "python3"
  },
  "language_info": {
   "codemirror_mode": {
    "name": "ipython",
    "version": 3
   },
   "file_extension": ".py",
   "mimetype": "text/x-python",
   "name": "python",
   "nbconvert_exporter": "python",
   "pygments_lexer": "ipython3",
   "version": "3.10.2"
  }
 },
 "nbformat": 4,
 "nbformat_minor": 5
}
