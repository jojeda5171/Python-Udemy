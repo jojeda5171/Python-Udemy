{
 "cells": [
  {
   "cell_type": "code",
   "execution_count": 6,
   "metadata": {},
   "outputs": [
    {
     "name": "stdout",
     "output_type": "stream",
     "text": [
      "se ha crado la pelicula El Padrino\n"
     ]
    }
   ],
   "source": [
    "class Pelicula:\n",
    "    #constructor de clase\n",
    "    def __init__(self,titulo,duracion,lanzamiento):\n",
    "        self.titulo=titulo\n",
    "        self.duracion=duracion\n",
    "        self.lanzamiento=lanzamiento\n",
    "        print(\"se ha crado la pelicula\",self.titulo)\n",
    "        \n",
    "    #Destructor\n",
    "    def __del__(self):\n",
    "        print(\"Se esta borrando la pelicula\",self.titulo)\n",
    "p=Pelicula(\"El Padrino\",172,1972)\n",
    "#del (p)"
   ]
  },
  {
   "cell_type": "code",
   "execution_count": 7,
   "metadata": {},
   "outputs": [
    {
     "data": {
      "text/plain": [
       "'<__main__.Pelicula object at 0x000001D5C2B020E0>'"
      ]
     },
     "execution_count": 7,
     "metadata": {},
     "output_type": "execute_result"
    }
   ],
   "source": [
    "str(p)"
   ]
  },
  {
   "cell_type": "code",
   "execution_count": 9,
   "metadata": {},
   "outputs": [
    {
     "name": "stdout",
     "output_type": "stream",
     "text": [
      "se ha crado la pelicula El Padrino\n"
     ]
    },
    {
     "data": {
      "text/plain": [
       "'El Padrino lanzada en 1972 con una duracion de 172 minutos'"
      ]
     },
     "execution_count": 9,
     "metadata": {},
     "output_type": "execute_result"
    }
   ],
   "source": [
    "class Pelicula:\n",
    "    #constructor de clase\n",
    "    def __init__(self,titulo,duracion,lanzamiento):\n",
    "        self.titulo=titulo\n",
    "        self.duracion=duracion\n",
    "        self.lanzamiento=lanzamiento\n",
    "        print(\"se ha crado la pelicula\",self.titulo)\n",
    "        \n",
    "    #Destructor\n",
    "    def __del__(self):\n",
    "        print(\"Se esta borrando la pelicula\",self.titulo)\n",
    "    \n",
    "    #Redefinir el metodo string interno\n",
    "    def __str__(self):\n",
    "        return \"{} lanzada en {} con una duracion de {} minutos\".format(self.titulo,self.lanzamiento,self.duracion)\n",
    "p=Pelicula(\"El Padrino\",172,1972)\n",
    "str(p)\n",
    "#del (p)"
   ]
  },
  {
   "cell_type": "code",
   "execution_count": 10,
   "metadata": {},
   "outputs": [
    {
     "ename": "TypeError",
     "evalue": "object of type 'Pelicula' has no len()",
     "output_type": "error",
     "traceback": [
      "\u001b[1;31m---------------------------------------------------------------------------\u001b[0m",
      "\u001b[1;31mTypeError\u001b[0m                                 Traceback (most recent call last)",
      "Input \u001b[1;32mIn [10]\u001b[0m, in \u001b[0;36m<cell line: 1>\u001b[1;34m()\u001b[0m\n\u001b[1;32m----> 1\u001b[0m \u001b[38;5;28;43mlen\u001b[39;49m\u001b[43m(\u001b[49m\u001b[43mp\u001b[49m\u001b[43m)\u001b[49m\n",
      "\u001b[1;31mTypeError\u001b[0m: object of type 'Pelicula' has no len()"
     ]
    }
   ],
   "source": [
    "len(p)"
   ]
  },
  {
   "cell_type": "code",
   "execution_count": 11,
   "metadata": {},
   "outputs": [
    {
     "name": "stdout",
     "output_type": "stream",
     "text": [
      "se ha crado la pelicula El Padrino\n",
      "Se esta borrando la pelicula El Padrino\n"
     ]
    },
    {
     "data": {
      "text/plain": [
       "172"
      ]
     },
     "execution_count": 11,
     "metadata": {},
     "output_type": "execute_result"
    }
   ],
   "source": [
    "class Pelicula:\n",
    "    #constructor de clase\n",
    "    def __init__(self,titulo,duracion,lanzamiento):\n",
    "        self.titulo=titulo\n",
    "        self.duracion=duracion\n",
    "        self.lanzamiento=lanzamiento\n",
    "        print(\"se ha crado la pelicula\",self.titulo)\n",
    "        \n",
    "    #Destructor\n",
    "    def __del__(self):\n",
    "        print(\"Se esta borrando la pelicula\",self.titulo)\n",
    "    \n",
    "    #Redefinir el metodo string interno\n",
    "    def __str__(self):\n",
    "        return \"{} lanzada en {} con una duracion de {} minutos\".format(self.titulo,self.lanzamiento,self.duracion)\n",
    "    \n",
    "    #Redefinir metodo length\n",
    "    def __len__(self):\n",
    "        return self.duracion\n",
    "p=Pelicula(\"El Padrino\",172,1972)\n",
    "len(p)"
   ]
  },
  {
   "cell_type": "code",
   "execution_count": null,
   "metadata": {},
   "outputs": [],
   "source": []
  }
 ],
 "metadata": {
  "kernelspec": {
   "display_name": "Python 3 (ipykernel)",
   "language": "python",
   "name": "python3"
  },
  "language_info": {
   "codemirror_mode": {
    "name": "ipython",
    "version": 3
   },
   "file_extension": ".py",
   "mimetype": "text/x-python",
   "name": "python",
   "nbconvert_exporter": "python",
   "pygments_lexer": "ipython3",
   "version": "3.10.2"
  }
 },
 "nbformat": 4,
 "nbformat_minor": 1
}
